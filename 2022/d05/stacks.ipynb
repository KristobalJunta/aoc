{
 "cells": [
  {
   "cell_type": "code",
   "execution_count": 119,
   "metadata": {},
   "outputs": [
    {
     "name": "stdout",
     "output_type": "stream",
     "text": [
      "Pretty printing has been turned ON\n"
     ]
    }
   ],
   "source": [
    "import numpy as np\n",
    "from pprint import pprint as pp\n",
    "\n",
    "%pprint"
   ]
  },
  {
   "cell_type": "code",
   "execution_count": 120,
   "metadata": {},
   "outputs": [
    {
     "name": "stdout",
     "output_type": "stream",
     "text": [
      "['    [D]    ', '[N] [C]    ', '[Z] [M] [P]', ' 1   2   3 ']\n"
     ]
    }
   ],
   "source": [
    "with open(\"test.txt\") as f:\n",
    "  data = [s.removesuffix('\\n') for s in f.readlines()]\n",
    "  data = list(filter(bool, data))\n",
    "\n",
    "stacks = [s for s in data if not s.startswith(\"move\")]\n",
    "\n",
    "maxl = max(len(s) for s in stacks)\n",
    "stacks = [s.ljust(maxl, ' ') for s in stacks]\n",
    "\n",
    "print(stacks)"
   ]
  },
  {
   "cell_type": "code",
   "execution_count": 121,
   "metadata": {},
   "outputs": [
    {
     "name": "stdout",
     "output_type": "stream",
     "text": [
      "[11, 11, 11, 11]\n"
     ]
    }
   ],
   "source": [
    "print([len(s) for s in stacks])"
   ]
  },
  {
   "cell_type": "code",
   "execution_count": 122,
   "metadata": {},
   "outputs": [
    {
     "name": "stdout",
     "output_type": "stream",
     "text": [
      "[None, 'ZN', 'MCD', 'P']\n"
     ]
    }
   ],
   "source": [
    "stacks = np.array([list(s) for s in stacks]).transpose()\n",
    "stacks = stacks[1::4]\n",
    "stacks = [list(s)[::-1][1:] for s in stacks]\n",
    "stacks = [''.join(s).strip() for s in stacks]\n",
    "stacks.insert(0, None)\n",
    "\n",
    "print(stacks)"
   ]
  }
 ],
 "metadata": {
  "kernelspec": {
   "display_name": "Python 3.10.8 ('venv': venv)",
   "language": "python",
   "name": "python3"
  },
  "language_info": {
   "codemirror_mode": {
    "name": "ipython",
    "version": 3
   },
   "file_extension": ".py",
   "mimetype": "text/x-python",
   "name": "python",
   "nbconvert_exporter": "python",
   "pygments_lexer": "ipython3",
   "version": "3.10.8"
  },
  "orig_nbformat": 4,
  "vscode": {
   "interpreter": {
    "hash": "2774624e1b781cb4da7762fb02b34682856d873258582423efaaa306b79a4306"
   }
  }
 },
 "nbformat": 4,
 "nbformat_minor": 2
}
